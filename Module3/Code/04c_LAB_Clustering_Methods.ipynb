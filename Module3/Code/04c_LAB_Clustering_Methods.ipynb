{
 "cells": [
  {
   "cell_type": "markdown",
   "metadata": {},
   "source": [
    "<center>\n",
    "    <img src=\"https://cf-courses-data.s3.us.cloud-object-storage.appdomain.cloud/assets/logos/SN_web_lightmode.png\" width=\"200\" alt=\"cognitiveclass.ai logo\">\n",
    "</center>\n"
   ]
  },
  {
   "cell_type": "markdown",
   "metadata": {
    "run_control": {
     "marked": true
    }
   },
   "source": [
    "# Machine Learning Foundation\n",
    "\n",
    "## Course 4, Part c: Clustering Methods LAB\n"
   ]
  },
  {
   "cell_type": "markdown",
   "metadata": {},
   "source": [
    "# Clustering Methods Exercises\n"
   ]
  },
  {
   "cell_type": "markdown",
   "metadata": {},
   "source": [
    "## Introduction\n",
    "\n",
    "This lab uses a dataset on wine quality. The data set contains various chemical properties of wine, such as acidity, sugar, pH, and alcohol. It also contains a quality metric (3-9, with highest being better) and a color (red or white). The name of the file is `Wine_Quality_Data.csv`.\n",
    "\n",
    "We will be using the chemical properties (i.e. everything but quality and color) to cluster the wine. Though this is unsupervised learning, there are interesting semi-supervised extensions relating clustering results onto color and quality.\n"
   ]
  },
  {
   "cell_type": "code",
   "execution_count": null,
   "metadata": {},
   "outputs": [],
   "source": [
    "# Define a custom warning function that does nothing (suppresses warnings)\n",
    "# Parameters: *args (variable positional arguments), **kwargs (variable keyword arguments)\n",
    "def warn(*args, **kwargs):\n",
    "    pass\n",
    "\n",
    "# Import the warnings module to control warning messages\n",
    "import warnings\n",
    "# Override the default warn function with our custom one to suppress all warnings\n",
    "warnings.warn = warn\n",
    "\n",
    "# Import seaborn for statistical data visualization\n",
    "# Import pandas for data manipulation and analysis (aliased as pd)\n",
    "# Import numpy for numerical operations (aliased as np)\n",
    "import seaborn as sns, pandas as pd, numpy as np"
   ]
  },
  {
   "cell_type": "code",
   "execution_count": null,
   "metadata": {},
   "outputs": [],
   "source": [
    "# Import numpy for numerical operations and array manipulation (aliased as np)\n",
    "# Import pandas for data structures and data analysis (aliased as pd)\n",
    "# Import matplotlib.pyplot for creating visualizations and plots (aliased as plt)\n",
    "# Import seaborn for statistical data visualization built on matplotlib (aliased as sns)\n",
    "import numpy as np, pandas as pd, matplotlib.pyplot as plt, seaborn as sns"
   ]
  },
  {
   "cell_type": "markdown",
   "metadata": {},
   "source": [
    "## Question 1\n",
    "\n",
    "*   Import the data and examine the features.\n",
    "*   Note which are continuous, categorical, and boolean.\n",
    "*   How many entries are there for the two colors and range of qualities?\n",
    "*   Make a histogram plot of the quality for each of the wine colors.\n"
   ]
  },
  {
   "cell_type": "code",
   "execution_count": null,
   "metadata": {
    "ExecuteTime": {
     "end_time": "2017-03-20T12:10:48.585240Z",
     "start_time": "2017-03-20T08:10:48.548076-04:00"
    },
    "collapsed": false,
    "jupyter": {
     "outputs_hidden": false
    }
   },
   "outputs": [],
   "source": [
    "### BEGIN SOLUTION\n",
    "# Load the Wine Quality dataset from the specified URL into a pandas DataFrame\n",
    "# pd.read_csv() reads CSV (comma-separated values) file from the given URL\n",
    "data = pd.read_csv(\"https://cf-courses-data.s3.us.cloud-object-storage.appdomain.cloud/IBM-ML0187EN-SkillsNetwork/labs/module%202/Wine_Quality_Data.csv\")\n",
    "\n",
    "# Display the first 4 rows of the dataset in transposed format (rows become columns)\n",
    "# .head(n) returns the first n rows of the DataFrame\n",
    "# .T transposes the DataFrame (swaps rows and columns for better readability)\n",
    "data.head(4).T"
   ]
  },
  {
   "cell_type": "code",
   "execution_count": null,
   "metadata": {
    "ExecuteTime": {
     "end_time": "2017-03-20T12:09:58.538878Z",
     "start_time": "2017-03-20T08:09:58.531714-04:00"
    },
    "collapsed": false,
    "jupyter": {
     "outputs_hidden": false
    }
   },
   "outputs": [],
   "source": [
    "# Get the dimensions of the DataFrame (number of rows, number of columns)\n",
    "# .shape returns a tuple: (number of rows, number of columns)\n",
    "data.shape"
   ]
  },
  {
   "cell_type": "markdown",
   "metadata": {},
   "source": [
    "The data types for each entry. The implementation of K-means in Scikit-learn is designed only to work with continuous data (even though it is sometimes used with categorical or boolean types). Fortunately, all the columns we will be using (everything except quality and color) are continuous.\n"
   ]
  },
  {
   "cell_type": "code",
   "execution_count": null,
   "metadata": {
    "ExecuteTime": {
     "end_time": "2017-03-20T12:12:23.585637Z",
     "start_time": "2017-03-20T08:12:23.576416-04:00"
    },
    "collapsed": false,
    "jupyter": {
     "outputs_hidden": false
    }
   },
   "outputs": [],
   "source": [
    "# Display the data type of each column in the DataFrame\n",
    "# .dtypes returns a Series with column names as index and their data types as values\n",
    "# This helps identify which columns are float64 (continuous), int64 (discrete), or object (categorical)\n",
    "data.dtypes"
   ]
  },
  {
   "cell_type": "markdown",
   "metadata": {},
   "source": [
    "The number of entries for each wine color.\n"
   ]
  },
  {
   "cell_type": "code",
   "execution_count": null,
   "metadata": {
    "ExecuteTime": {
     "end_time": "2017-03-20T12:10:32.347631Z",
     "start_time": "2017-03-20T08:10:32.337545-04:00"
    },
    "collapsed": false,
    "jupyter": {
     "outputs_hidden": false
    }
   },
   "outputs": [],
   "source": [
    "# Count the number of occurrences of each unique value in the 'color' column\n",
    "# .value_counts() returns a Series with unique values as index and their counts as values\n",
    "# This shows how many red and white wine samples are in the dataset\n",
    "data.color.value_counts()"
   ]
  },
  {
   "cell_type": "markdown",
   "metadata": {},
   "source": [
    "The distribution of quality values.\n"
   ]
  },
  {
   "cell_type": "code",
   "execution_count": null,
   "metadata": {
    "ExecuteTime": {
     "end_time": "2017-03-20T13:00:49.509254Z",
     "start_time": "2017-03-20T09:00:49.495394-04:00"
    },
    "collapsed": false,
    "jupyter": {
     "outputs_hidden": false
    }
   },
   "outputs": [],
   "source": [
    "# Count the number of occurrences of each quality rating and sort by quality value\n",
    "# .value_counts() counts occurrences of each unique quality value\n",
    "# .sort_index() sorts the results by the quality values (3-9) in ascending order\n",
    "# This shows the distribution of wine quality ratings in the dataset\n",
    "data.quality.value_counts().sort_index()"
   ]
  },
  {
   "cell_type": "markdown",
   "metadata": {},
   "source": [
    "Now for the histogram.\n"
   ]
  },
  {
   "cell_type": "code",
   "execution_count": null,
   "metadata": {
    "ExecuteTime": {
     "end_time": "2017-03-20T13:05:20.809064Z",
     "start_time": "2017-03-20T09:05:20.584910-04:00"
    },
    "collapsed": false,
    "jupyter": {
     "outputs_hidden": false
    }
   },
   "outputs": [],
   "source": [
    "# Set seaborn plotting context to 'notebook' for appropriate figure sizes and fonts\n",
    "sns.set_context('notebook')\n",
    "# Set seaborn style to 'white' for clean background without gridlines\n",
    "sns.set_style('white')\n",
    "\n",
    "# Define custom colors from seaborn's default color palette\n",
    "# Index [2] corresponds to a red-like color for red wine visualization\n",
    "red = sns.color_palette()[2]\n",
    "# Index [4] corresponds to a blue-like color for white wine visualization\n",
    "white = sns.color_palette()[4]\n",
    "\n",
    "# Create array of bin edges for the histogram ranging from 3 to 9 (quality values)\n",
    "bin_range = np.array([3, 4, 5, 6, 7, 8, 9])\n",
    "\n",
    "# Create a new matplotlib axes object for plotting\n",
    "ax = plt.axes()\n",
    "# Loop through each wine color ('red' and 'white') with their corresponding plot colors\n",
    "for color, plot_color in zip(['red', 'white'], [red, white]):\n",
    "    # Filter the data to get quality values for the current wine color\n",
    "    # .loc[condition, column] selects rows where condition is True and returns specified column\n",
    "    q_data = data.loc[data.color==color, 'quality']\n",
    "    # Create histogram with specified parameters:\n",
    "    # bins: array defining histogram bin edges\n",
    "    # alpha: transparency level (0.5 = 50% transparent) for overlapping visualization\n",
    "    # ax: the axes object to plot on\n",
    "    # color: the color for this histogram\n",
    "    # label: legend label for this histogram\n",
    "    q_data.hist(bins=bin_range, \n",
    "                alpha=0.5, ax=ax, \n",
    "                color=plot_color, label=color)\n",
    "    \n",
    "# Add legend to the plot showing which color represents which wine type\n",
    "ax.legend()\n",
    "# Set axis labels: xlabel for x-axis, ylabel for y-axis\n",
    "ax.set(xlabel='Quality', ylabel='Occurrence')\n",
    "\n",
    "# Set x-axis limits from 3 to 10 to frame the data appropriately\n",
    "ax.set_xlim(3,10)\n",
    "# Set x-axis tick positions at bin_range + 0.5 to center ticks in each bin\n",
    "ax.set_xticks(bin_range+0.5)\n",
    "# Set x-axis tick labels to display the actual quality values (3-9)\n",
    "ax.set_xticklabels(bin_range);\n",
    "# Turn off the grid for cleaner visualization\n",
    "ax.grid('off')\n",
    "### END SOLUTION"
   ]
  },
  {
   "cell_type": "markdown",
   "metadata": {},
   "source": [
    "## Question 2\n",
    "\n",
    "*   Examine the correlation and skew of the relevant variables--everything except color and quality (without dropping these columns from our data).\n",
    "*   Perform any appropriate feature transformations and/or scaling.\n",
    "*   Examine the pairwise distribution of the variables with pairplots to verify scaling and normalization efforts.\n"
   ]
  },
  {
   "cell_type": "code",
   "execution_count": null,
   "metadata": {
    "collapsed": false,
    "jupyter": {
     "outputs_hidden": false
    }
   },
   "outputs": [],
   "source": [
    "### BEGIN SOLUTION\n",
    "# Create a list of column names that are float type (excluding 'color' and 'quality')\n",
    "# This includes all continuous chemical property features\n",
    "float_columns = [x for x in data.columns if x not in ['color', 'quality']]\n",
    "\n",
    "# Calculate the correlation matrix for all float columns\n",
    "# .corr() computes pairwise correlation of columns using Pearson correlation coefficient\n",
    "# Values range from -1 (perfect negative correlation) to +1 (perfect positive correlation)\n",
    "corr_mat = data[float_columns].corr()\n",
    "\n",
    "# Remove diagonal values (self-correlation = 1.0) by setting them to 0.0\n",
    "# This makes it easier to identify the strongest correlations between different features\n",
    "for x in range(len(float_columns)):\n",
    "    # .iloc[row, col] accesses DataFrame elements by integer position\n",
    "    corr_mat.iloc[x,x] = 0.0\n",
    "    \n",
    "# Display the correlation matrix\n",
    "corr_mat"
   ]
  },
  {
   "cell_type": "code",
   "execution_count": null,
   "metadata": {},
   "outputs": [],
   "source": [
    "# Find the feature with the maximum absolute correlation for each feature\n",
    "# .abs() takes absolute values to consider both positive and negative correlations\n",
    "# .idxmax() returns the index (column name) with the maximum value for each row\n",
    "# This shows which feature is most strongly correlated with each feature\n",
    "corr_mat.abs().idxmax()"
   ]
  },
  {
   "cell_type": "code",
   "execution_count": 10,
   "metadata": {
    "collapsed": false,
    "jupyter": {
     "outputs_hidden": false
    }
   },
   "outputs": [
    {
     "data": {
      "text/plain": [
       "fixed_acidity                        density\n",
       "volatile_acidity        total_sulfur_dioxide\n",
       "citric_acid                 volatile_acidity\n",
       "residual_sugar                       density\n",
       "chlorides                          sulphates\n",
       "free_sulfur_dioxide     total_sulfur_dioxide\n",
       "total_sulfur_dioxide     free_sulfur_dioxide\n",
       "density                              alcohol\n",
       "pH                               citric_acid\n",
       "sulphates                          chlorides\n",
       "alcohol                              density\n",
       "dtype: object"
      ]
     },
     "execution_count": 10,
     "metadata": {},
     "output_type": "execute_result"
    }
   ],
   "source": [
    "# Pairwise maximal correlations\n",
    "corr_mat.abs().idxmax()"
   ]
  },
  {
   "cell_type": "code",
   "execution_count": null,
   "metadata": {},
   "outputs": [],
   "source": [
    "# Apply log1p transformation to highly skewed columns to reduce skewness\n",
    "# Loop through each column identified as highly skewed\n",
    "for col in skew_columns.index.tolist():\n",
    "    # np.log1p(x) computes log(1 + x), which handles zeros gracefully\n",
    "    # This transformation reduces right-skewness by compressing large values\n",
    "    data[col] = np.log1p(data[col])"
   ]
  },
  {
   "cell_type": "markdown",
   "metadata": {},
   "source": [
    "### Log1p Transformation Formula\n",
    "\n",
    "The log1p transformation is defined as:\n",
    "\n",
    "$$y = \\ln(1 + x)$$\n",
    "\n",
    "Where:\n",
    "- $x$ is the original feature value\n",
    "- $\\ln$ is the natural logarithm\n",
    "- $y$ is the transformed value\n",
    "\n",
    "**Why log1p instead of log?**\n",
    "- Regular log transformation: $\\ln(x)$ is undefined for $x = 0$\n",
    "- log1p transformation: $\\ln(1 + x)$ is defined for all $x \\geq 0$\n",
    "- This handles zero values gracefully without requiring offsets\n",
    "\n",
    "**Purpose:**\n",
    "- Reduces right-skewness in distributions\n",
    "- Compresses large values while preserving relative differences\n",
    "- Makes the distribution more symmetric and closer to normal\n",
    "- Improves performance of algorithms that assume normally distributed features"
   ]
  },
  {
   "cell_type": "code",
   "execution_count": null,
   "metadata": {
    "collapsed": false,
    "jupyter": {
     "outputs_hidden": false
    }
   },
   "outputs": [],
   "source": [
    "# Import StandardScaler for feature standardization from scikit-learn\n",
    "from sklearn.preprocessing import StandardScaler\n",
    "\n",
    "# Create a StandardScaler object that will standardize features\n",
    "# Standardization transforms features to have mean=0 and standard deviation=1\n",
    "sc = StandardScaler()\n",
    "\n",
    "# Fit the scaler to the data and transform the float columns\n",
    "# .fit_transform() computes mean and std, then applies the transformation\n",
    "# This ensures all features are on the same scale for clustering algorithms\n",
    "data[float_columns] = sc.fit_transform(data[float_columns])\n",
    "\n",
    "# Display the first 4 rows to verify the transformation\n",
    "# Values should now be centered around 0 with similar ranges\n",
    "data.head(4)"
   ]
  },
  {
   "cell_type": "markdown",
   "metadata": {},
   "source": [
    "### Standard Scaling (Z-score Normalization) Formula\n",
    "\n",
    "The StandardScaler transformation is defined as:\n",
    "\n",
    "$$z = \\frac{x - \\mu}{\\sigma}$$\n",
    "\n",
    "Where:\n",
    "- $x$ is the original feature value\n",
    "- $\\mu$ is the mean of the feature across all samples\n",
    "- $\\sigma$ is the standard deviation of the feature\n",
    "- $z$ is the standardized value (z-score)\n",
    "\n",
    "**Properties after standardization:**\n",
    "- Mean: $\\mathbb{E}[z] = 0$\n",
    "- Standard deviation: $\\text{std}(z) = 1$\n",
    "\n",
    "**Purpose:**\n",
    "- Removes units and makes features comparable\n",
    "- Prevents features with larger scales from dominating distance calculations\n",
    "- Essential for clustering algorithms (K-Means, Hierarchical) that use distance metrics\n",
    "- Improves convergence of optimization algorithms"
   ]
  },
  {
   "cell_type": "code",
   "execution_count": null,
   "metadata": {
    "collapsed": false,
    "jupyter": {
     "outputs_hidden": false
    }
   },
   "outputs": [],
   "source": [
    "# Set seaborn plotting context to 'notebook' for appropriate sizing\n",
    "sns.set_context('notebook')\n",
    "\n",
    "# Create a pairwise plot (scatterplot matrix) of all float features plus color\n",
    "# Parameters:\n",
    "# - data[float_columns + ['color']]: DataFrame with features to plot plus color column\n",
    "# - hue='color': color points by wine color (red/white)\n",
    "# - hue_order=['white', 'red']: specify order of colors in legend\n",
    "# - palette={'red':red, 'white':'gray'}: custom color mapping for visualization\n",
    "# This plot shows relationships between all pairs of features and how they separate by wine color\n",
    "sns.pairplot(data[float_columns + ['color']], \n",
    "             hue='color', \n",
    "             hue_order=['white', 'red'],\n",
    "             palette={'red':red, 'white':'gray'});\n",
    "### END SOLUTION"
   ]
  },
  {
   "cell_type": "markdown",
   "metadata": {},
   "source": [
    "Perform feature scaling.\n"
   ]
  },
  {
   "cell_type": "code",
   "execution_count": null,
   "metadata": {
    "collapsed": false,
    "jupyter": {
     "outputs_hidden": false
    }
   },
   "outputs": [],
   "source": [
    "# Import KMeans clustering algorithm from scikit-learn\n",
    "from sklearn.cluster import KMeans\n",
    "### BEGIN SOLUTION\n",
    "# Create a KMeans clustering model with 2 clusters\n",
    "# Parameters:\n",
    "# - n_clusters=2: number of clusters to form\n",
    "# - random_state=42: seed for random number generator (for reproducibility)\n",
    "km = KMeans(n_clusters=2, random_state=42)\n",
    "\n",
    "# Fit the K-Means model to the float feature data\n",
    "# This finds the optimal cluster centers by minimizing within-cluster sum of squares\n",
    "km = km.fit(data[float_columns])\n",
    "\n",
    "# Predict cluster labels for all data points and add as new column 'kmeans'\n",
    "# .predict() assigns each data point to the nearest cluster center\n",
    "data['kmeans'] = km.predict(data[float_columns])"
   ]
  },
  {
   "cell_type": "code",
   "execution_count": null,
   "metadata": {},
   "outputs": [],
   "source": [
    "# Analyze the K-Means clustering results by wine color\n",
    "# Select columns 'color' and 'kmeans' from the data\n",
    "(data[['color','kmeans']]\n",
    " # Group by both 'kmeans' cluster label and 'color'\n",
    " .groupby(['kmeans','color'])\n",
    " # Count the number of wines in each group\n",
    " .size()\n",
    " # Convert the Series result to a DataFrame\n",
    " .to_frame()\n",
    " # Rename the count column from 0 to 'number' for clarity\n",
    " .rename(columns={0:'number'}))\n",
    "### END SOLUTION"
   ]
  },
  {
   "cell_type": "markdown",
   "metadata": {},
   "source": [
    "Finally, the pairplot of the transformed and scaled features.\n"
   ]
  },
  {
   "cell_type": "code",
   "execution_count": null,
   "metadata": {
    "collapsed": false,
    "jupyter": {
     "outputs_hidden": false
    }
   },
   "outputs": [],
   "source": [
    "### BEGIN SOLUTION\n",
    "# Initialize an empty list to store results from each K-Means model\n",
    "km_list = list()\n",
    "\n",
    "# Loop through cluster values from 1 to 20 to test different numbers of clusters\n",
    "for clust in range(1,21):\n",
    "    # Create a K-Means model with 'clust' number of clusters\n",
    "    # Parameters:\n",
    "    # - n_clusters=clust: current number of clusters being tested\n",
    "    # - random_state=42: ensures reproducible results\n",
    "    km = KMeans(n_clusters=clust, random_state=42)\n",
    "    # Fit the model to the float feature data\n",
    "    km = km.fit(data[float_columns])\n",
    "    \n",
    "    # Store model information in a Series and append to list\n",
    "    # clusters: number of clusters used\n",
    "    # inertia: sum of squared distances of samples to their nearest cluster center\n",
    "    # model: the fitted KMeans model object\n",
    "    km_list.append(pd.Series({'clusters': clust, \n",
    "                              'inertia': km.inertia_,\n",
    "                              'model': km}))"
   ]
  },
  {
   "cell_type": "markdown",
   "metadata": {},
   "source": [
    "### Inertia and the Elbow Method\n",
    "\n",
    "**Inertia (Within-Cluster Sum of Squares):**\n",
    "\n",
    "$$\\text{Inertia} = \\sum_{j=1}^{k} \\sum_{i \\in C_j} ||x_i - \\mu_j||^2$$\n",
    "\n",
    "Where:\n",
    "- $k$ is the number of clusters\n",
    "- $C_j$ is the set of points in cluster $j$\n",
    "- $x_i$ is a data point\n",
    "- $\\mu_j$ is the centroid of cluster $j$\n",
    "\n",
    "**Elbow Method:**\n",
    "The elbow method helps determine the optimal number of clusters by plotting inertia vs. number of clusters. \n",
    "\n",
    "- **How it works**: As $k$ increases, inertia decreases (more clusters = better fit)\n",
    "- **The \"elbow\"**: The point where the rate of decrease sharply changes\n",
    "- **Interpretation**: Beyond the elbow, adding more clusters provides diminishing returns\n",
    "- **Goal**: Find the $k$ where the curve \"bends\" - balancing model complexity and fit\n",
    "\n",
    "The optimal $k$ is typically at the elbow point where inertia reduction begins to plateau."
   ]
  },
  {
   "cell_type": "code",
   "execution_count": null,
   "metadata": {
    "ExecuteTime": {
     "end_time": "2017-03-20T01:59:09.017663Z",
     "start_time": "2017-03-19T21:59:08.896993-04:00"
    },
    "collapsed": false,
    "jupyter": {
     "outputs_hidden": false
    }
   },
   "outputs": [],
   "source": [
    "# Import AgglomerativeClustering for hierarchical clustering from scikit-learn\n",
    "from sklearn.cluster import AgglomerativeClustering\n",
    "### BEGIN SOLUTION\n",
    "# Create an Agglomerative Clustering model with specified parameters\n",
    "# Parameters:\n",
    "# - n_clusters=2: number of clusters to find\n",
    "# - linkage='ward': uses Ward's minimum variance method for merging clusters\n",
    "# - compute_full_tree=True: computes the full dendrogram tree for visualization\n",
    "ag = AgglomerativeClustering(n_clusters=2, linkage='ward', compute_full_tree=True)\n",
    "\n",
    "# Fit the agglomerative clustering model to the float feature data\n",
    "ag = ag.fit(data[float_columns])\n",
    "\n",
    "# Predict cluster labels and add as new column 'agglom'\n",
    "# .fit_predict() fits the model and returns cluster labels in one step\n",
    "data['agglom'] = ag.fit_predict(data[float_columns])"
   ]
  },
  {
   "cell_type": "markdown",
   "metadata": {},
   "source": [
    "### Agglomerative Hierarchical Clustering with Ward Linkage\n",
    "\n",
    "**Ward's Linkage Method:**\n",
    "\n",
    "Ward's method minimizes the variance within clusters when merging. The distance between two clusters $C_a$ and $C_b$ is:\n",
    "\n",
    "$$d(C_a, C_b) = \\sqrt{\\frac{2n_a n_b}{n_a + n_b}} ||\\mu_a - \\mu_b||_2$$\n",
    "\n",
    "Where:\n",
    "- $n_a, n_b$ are the number of points in clusters $C_a$ and $C_b$\n",
    "- $\\mu_a, \\mu_b$ are the centroids of clusters $C_a$ and $C_b$\n",
    "- $||\\mu_a - \\mu_b||_2$ is the Euclidean distance between centroids\n",
    "\n",
    "**Ward's Criterion (Merge Cost):**\n",
    "\n",
    "The increase in variance when merging clusters $C_a$ and $C_b$ is:\n",
    "\n",
    "$$\\Delta(C_a, C_b) = \\sum_{i \\in C_a \\cup C_b} ||x_i - \\mu_{ab}||^2 - \\sum_{i \\in C_a} ||x_i - \\mu_a||^2 - \\sum_{i \\in C_b} ||x_i - \\mu_b||^2$$\n",
    "\n",
    "Where $\\mu_{ab}$ is the centroid of the merged cluster.\n",
    "\n",
    "**Algorithm:**\n",
    "1. Start with each point as its own cluster\n",
    "2. Repeatedly merge the two clusters that minimize the increase in total within-cluster variance\n",
    "3. Stop when the desired number of clusters is reached\n",
    "\n",
    "**Properties:**\n",
    "- Tends to create compact, spherical clusters\n",
    "- Minimizes within-cluster variance\n",
    "- Sensitive to outliers"
   ]
  },
  {
   "cell_type": "code",
   "execution_count": null,
   "metadata": {
    "ExecuteTime": {
     "end_time": "2017-03-20T01:59:09.332043Z",
     "start_time": "2017-03-19T21:59:09.315410-04:00"
    },
    "collapsed": false,
    "jupyter": {
     "outputs_hidden": false
    }
   },
   "outputs": [],
   "source": [
    "# Analyze Agglomerative Clustering results by wine color\n",
    "# Select 'color', 'agglom', and 'kmeans' columns\n",
    "(data[['color','agglom','kmeans']]\n",
    " # Group by wine color and agglomerative cluster label\n",
    " .groupby(['color','agglom'])\n",
    " # Count the number of wines in each group\n",
    " .size()\n",
    " # Convert Series to DataFrame\n",
    " .to_frame()\n",
    " # Rename the count column from 0 to 'number'\n",
    " .rename(columns={0:'number'}))"
   ]
  },
  {
   "cell_type": "code",
   "execution_count": null,
   "metadata": {
    "ExecuteTime": {
     "end_time": "2017-03-20T01:59:21.588328Z",
     "start_time": "2017-03-19T21:59:12.450288-04:00"
    },
    "collapsed": false,
    "jupyter": {
     "outputs_hidden": false
    }
   },
   "outputs": [],
   "source": [
    "# Compare both clustering methods side-by-side\n",
    "# Select 'color', 'agglom', and 'kmeans' columns\n",
    "(data[['color','agglom','kmeans']]\n",
    " # Group by all three columns to see the overlap between clustering methods\n",
    " .groupby(['color','agglom','kmeans'])\n",
    " # Count the number of wines in each combination\n",
    " .size()\n",
    " # Convert Series to DataFrame\n",
    " .to_frame()\n",
    " # Rename the count column from 0 to 'number'\n",
    " # This shows how many wines have each combination of color, agglom cluster, and kmeans cluster\n",
    " .rename(columns={0:'number'}))"
   ]
  },
  {
   "cell_type": "code",
   "execution_count": 18,
   "metadata": {
    "ExecuteTime": {
     "end_time": "2017-03-20T01:59:21.775524Z",
     "start_time": "2017-03-19T21:59:21.589747-04:00"
    },
    "collapsed": false,
    "jupyter": {
     "outputs_hidden": false
    }
   },
   "outputs": [
    {
     "data": {
      "image/png": "[encoded data removed]",
      "text/plain": [
       "<Figure size 640x480 with 1 Axes>"
      ]
     },
     "metadata": {},
     "output_type": "display_data"
    }
   ],
   "source": [
    "plot_data = (pd.concat(km_list, axis=1)\n",
    "             .T\n",
    "             [['clusters','inertia']]\n",
    "             .set_index('clusters'))\n",
    "\n",
    "ax = plot_data.plot(marker='o',ls='-')\n",
    "ax.set_xticks(range(0,21,2))\n",
    "ax.set_xlim(0,21)\n",
    "ax.set(xlabel='Cluster', ylabel='Inertia');\n",
    "### END SOLUTION"
   ]
  },
  {
   "cell_type": "code",
   "execution_count": 19,
   "metadata": {
    "ExecuteTime": {
     "end_time": "2017-03-20T11:30:31.254165Z",
     "start_time": "2017-03-20T07:30:27.894864-04:00"
    },
    "collapsed": false,
    "jupyter": {
     "outputs_hidden": false
    }
   },
   "outputs": [],
   "source": [
    "from sklearn.cluster import AgglomerativeClustering\n",
    "### BEGIN SOLUTION\n",
    "ag = AgglomerativeClustering(n_clusters=2, linkage='ward', compute_full_tree=True)\n",
    "ag = ag.fit(data[float_columns])\n",
    "data['agglom'] = ag.fit_predict(data[float_columns])"
   ]
  },
  {
   "cell_type": "markdown",
   "metadata": {},
   "source": [
    "### ROC-AUC Score (Area Under the ROC Curve)\n",
    "\n",
    "**ROC Curve:**\n",
    "The Receiver Operating Characteristic (ROC) curve plots the True Positive Rate (TPR) against the False Positive Rate (FPR) at various classification thresholds.\n",
    "\n",
    "$$\\text{TPR (Sensitivity/Recall)} = \\frac{TP}{TP + FN}$$\n",
    "\n",
    "$$\\text{FPR} = \\frac{FP}{FP + TN}$$\n",
    "\n",
    "Where:\n",
    "- $TP$ = True Positives (correctly predicted positive class)\n",
    "- $FN$ = False Negatives (incorrectly predicted negative class)\n",
    "- $FP$ = False Positives (incorrectly predicted positive class)\n",
    "- $TN$ = True Negatives (correctly predicted negative class)\n",
    "\n",
    "**AUC (Area Under the Curve):**\n",
    "\n",
    "$$\\text{AUC} = \\int_0^1 \\text{TPR}(t) \\, d(\\text{FPR}(t))$$\n",
    "\n",
    "Where $t$ represents the classification threshold.\n",
    "\n",
    "**Interpretation:**\n",
    "- AUC = 1.0: Perfect classifier\n",
    "- AUC = 0.5: Random classifier (no discrimination ability)\n",
    "- AUC < 0.5: Worse than random\n",
    "- 0.7 ≤ AUC < 0.8: Acceptable\n",
    "- 0.8 ≤ AUC < 0.9: Excellent\n",
    "- AUC ≥ 0.9: Outstanding\n",
    "\n",
    "**Why ROC-AUC?**\n",
    "- Threshold-independent metric\n",
    "- Robust to class imbalance\n",
    "- Measures the model's ability to distinguish between classes"
   ]
  },
  {
   "cell_type": "code",
   "execution_count": null,
   "metadata": {
    "ExecuteTime": {
     "end_time": "2017-03-20T11:46:08.938224Z",
     "start_time": "2017-03-20T07:46:08.924114-04:00"
    },
    "collapsed": false,
    "jupyter": {
     "outputs_hidden": false
    }
   },
   "outputs": [],
   "source": [
    "# Import LogisticRegression classifier from scikit-learn\n",
    "from sklearn.linear_model import LogisticRegression\n",
    "\n",
    "# Create basis feature set using only the float columns (chemical properties)\n",
    "X_basis = data[float_columns]\n",
    "\n",
    "# Reuse the StratifiedShuffleSplit cross-validator with 10 splits\n",
    "sss = StratifiedShuffleSplit(n_splits=10, random_state=6532)\n",
    "\n",
    "# Define function to create feature set with one-hot encoded K-Means clusters\n",
    "# Parameter:\n",
    "# - n: number of clusters to create\n",
    "def create_kmeans_columns(n):\n",
    "    # Create K-Means model with n clusters\n",
    "    km = KMeans(n_clusters=n)\n",
    "    # Fit the model to the basis features\n",
    "    km.fit(X_basis)\n",
    "    # Predict cluster labels for all data points\n",
    "    km_col = pd.Series(km.predict(X_basis))\n",
    "    # One-hot encode the cluster labels\n",
    "    # pd.get_dummies() creates binary columns for each cluster (0 or 1)\n",
    "    # prefix='kmeans_cluster': adds prefix to column names (e.g., kmeans_cluster_0, kmeans_cluster_1)\n",
    "    km_cols = pd.get_dummies(km_col, prefix='kmeans_cluster')\n",
    "    # Concatenate the original features with the one-hot encoded cluster features\n",
    "    # axis=1: concatenate along columns\n",
    "    return pd.concat([X_basis, km_cols], axis=1)\n",
    "\n",
    "# Create LogisticRegression estimator with default parameters\n",
    "estimator = LogisticRegression()\n",
    "\n",
    "# Create range of cluster numbers to test (1 to 20)\n",
    "ns = range(1, 21)\n",
    "\n",
    "# For each number of clusters, create features and calculate average ROC-AUC\n",
    "# List comprehension: iterates through each n, creates features, and evaluates model\n",
    "roc_auc_list = [get_avg_roc_10splits(estimator, create_kmeans_columns(n), y)\n",
    "                for n in ns]\n",
    "\n",
    "# Create a new axes object for plotting\n",
    "ax = plt.axes()\n",
    "# Plot the ROC-AUC scores vs. number of clusters\n",
    "ax.plot(ns, roc_auc_list)\n",
    "# Set plot properties\n",
    "ax.set(\n",
    "    # Set x-axis tick labels to cluster numbers (1-20)\n",
    "    xticklabels= ns,\n",
    "    # Set x-axis label\n",
    "    xlabel='Number of clusters as features',\n",
    "    # Set y-axis label\n",
    "    ylabel='Average ROC-AUC over 10 iterations',\n",
    "    # Set plot title\n",
    "    title='KMeans + LogisticRegression'\n",
    ")\n",
    "# Enable grid for better readability\n",
    "ax.grid(True)\n",
    "### END SOLUTION"
   ]
  },
  {
   "cell_type": "markdown",
   "metadata": {},
   "source": [
    "### Logistic Regression\n",
    "\n",
    "**Logistic Function (Sigmoid):**\n",
    "\n",
    "The logistic regression model uses the sigmoid function to map linear combinations to probabilities:\n",
    "\n",
    "$$\\sigma(z) = \\frac{1}{1 + e^{-z}}$$\n",
    "\n",
    "**Probability Prediction:**\n",
    "\n",
    "$$P(y=1|x) = \\sigma(w^T x + b) = \\frac{1}{1 + e^{-(w^T x + b)}}$$\n",
    "\n",
    "Where:\n",
    "- $x$ is the feature vector\n",
    "- $w$ is the weight vector\n",
    "- $b$ is the bias term\n",
    "- $P(y=1|x)$ is the probability that the sample belongs to class 1\n",
    "\n",
    "**Log-Loss (Cross-Entropy Loss):**\n",
    "\n",
    "The optimization objective minimizes the negative log-likelihood:\n",
    "\n",
    "$$J(w,b) = -\\frac{1}{m}\\sum_{i=1}^{m}\\left[y_i \\log(\\hat{y}_i) + (1-y_i)\\log(1-\\hat{y}_i)\\right]$$\n",
    "\n",
    "Where:\n",
    "- $m$ is the number of samples\n",
    "- $y_i$ is the true label (0 or 1)\n",
    "- $\\hat{y}_i = P(y_i=1|x_i)$ is the predicted probability\n",
    "\n",
    "**One-Hot Encoding:**\n",
    "\n",
    "For a categorical variable with $k$ categories, one-hot encoding creates $k$ binary features:\n",
    "\n",
    "$$\\text{Category } j \\rightarrow [0, 0, \\ldots, 1, \\ldots, 0]$$\n",
    "\n",
    "where only the $j$-th position is 1, rest are 0.\n",
    "\n",
    "**Purpose in this context:**\n",
    "- Converting K-Means cluster assignments (categorical) to binary features\n",
    "- Allows linear models to capture cluster membership information"
   ]
  },
  {
   "cell_type": "code",
   "execution_count": 21,
   "metadata": {},
   "outputs": [
    {
     "data": {
      "text/html": [
       "<div>\n",
       "<style scoped>\n",
       "    .dataframe tbody tr th:only-of-type {\n",
       "        vertical-align: middle;\n",
       "    }\n",
       "\n",
       "    .dataframe tbody tr th {\n",
       "        vertical-align: top;\n",
       "    }\n",
       "\n",
       "    .dataframe thead th {\n",
       "        text-align: right;\n",
       "    }\n",
       "</style>\n",
       "<table border=\"1\" class=\"dataframe\">\n",
       "  <thead>\n",
       "    <tr style=\"text-align: right;\">\n",
       "      <th></th>\n",
       "      <th></th>\n",
       "      <th>number</th>\n",
       "    </tr>\n",
       "    <tr>\n",
       "      <th>color</th>\n",
       "      <th>kmeans</th>\n",
       "      <th></th>\n",
       "    </tr>\n",
       "  </thead>\n",
       "  <tbody>\n",
       "    <tr>\n",
       "      <th rowspan=\"2\" valign=\"top\">red</th>\n",
       "      <th>0</th>\n",
       "      <td>1576</td>\n",
       "    </tr>\n",
       "    <tr>\n",
       "      <th>1</th>\n",
       "      <td>23</td>\n",
       "    </tr>\n",
       "    <tr>\n",
       "      <th rowspan=\"2\" valign=\"top\">white</th>\n",
       "      <th>0</th>\n",
       "      <td>87</td>\n",
       "    </tr>\n",
       "    <tr>\n",
       "      <th>1</th>\n",
       "      <td>4811</td>\n",
       "    </tr>\n",
       "  </tbody>\n",
       "</table>\n",
       "</div>"
      ],
      "text/plain": [
       "              number\n",
       "color kmeans        \n",
       "red   0         1576\n",
       "      1           23\n",
       "white 0           87\n",
       "      1         4811"
      ]
     },
     "execution_count": 21,
     "metadata": {},
     "output_type": "execute_result"
    }
   ],
   "source": [
    "# Comparing with KMeans results:\n",
    "(data[['color','agglom','kmeans']]\n",
    " .groupby(['color','kmeans'])\n",
    " .size()\n",
    " .to_frame()\n",
    " .rename(columns={0:'number'}))"
   ]
  },
  {
   "cell_type": "code",
   "execution_count": 22,
   "metadata": {},
   "outputs": [
    {
     "data": {
      "text/html": [
       "<div>\n",
       "<style scoped>\n",
       "    .dataframe tbody tr th:only-of-type {\n",
       "        vertical-align: middle;\n",
       "    }\n",
       "\n",
       "    .dataframe tbody tr th {\n",
       "        vertical-align: top;\n",
       "    }\n",
       "\n",
       "    .dataframe thead th {\n",
       "        text-align: right;\n",
       "    }\n",
       "</style>\n",
       "<table border=\"1\" class=\"dataframe\">\n",
       "  <thead>\n",
       "    <tr style=\"text-align: right;\">\n",
       "      <th></th>\n",
       "      <th></th>\n",
       "      <th></th>\n",
       "      <th>number</th>\n",
       "    </tr>\n",
       "    <tr>\n",
       "      <th>color</th>\n",
       "      <th>agglom</th>\n",
       "      <th>kmeans</th>\n",
       "      <th></th>\n",
       "    </tr>\n",
       "  </thead>\n",
       "  <tbody>\n",
       "    <tr>\n",
       "      <th rowspan=\"4\" valign=\"top\">red</th>\n",
       "      <th rowspan=\"2\" valign=\"top\">0</th>\n",
       "      <th>0</th>\n",
       "      <td>13</td>\n",
       "    </tr>\n",
       "    <tr>\n",
       "      <th>1</th>\n",
       "      <td>18</td>\n",
       "    </tr>\n",
       "    <tr>\n",
       "      <th rowspan=\"2\" valign=\"top\">1</th>\n",
       "      <th>0</th>\n",
       "      <td>1563</td>\n",
       "    </tr>\n",
       "    <tr>\n",
       "      <th>1</th>\n",
       "      <td>5</td>\n",
       "    </tr>\n",
       "    <tr>\n",
       "      <th rowspan=\"4\" valign=\"top\">white</th>\n",
       "      <th rowspan=\"2\" valign=\"top\">0</th>\n",
       "      <th>0</th>\n",
       "      <td>38</td>\n",
       "    </tr>\n",
       "    <tr>\n",
       "      <th>1</th>\n",
       "      <td>4717</td>\n",
       "    </tr>\n",
       "    <tr>\n",
       "      <th rowspan=\"2\" valign=\"top\">1</th>\n",
       "      <th>0</th>\n",
       "      <td>49</td>\n",
       "    </tr>\n",
       "    <tr>\n",
       "      <th>1</th>\n",
       "      <td>94</td>\n",
       "    </tr>\n",
       "  </tbody>\n",
       "</table>\n",
       "</div>"
      ],
      "text/plain": [
       "                     number\n",
       "color agglom kmeans        \n",
       "red   0      0           13\n",
       "             1           18\n",
       "      1      0         1563\n",
       "             1            5\n",
       "white 0      0           38\n",
       "             1         4717\n",
       "      1      0           49\n",
       "             1           94"
      ]
     },
     "execution_count": 22,
     "metadata": {},
     "output_type": "execute_result"
    }
   ],
   "source": [
    "# Comparing results:\n",
    "(data[['color','agglom','kmeans']]\n",
    " .groupby(['color','agglom','kmeans'])\n",
    " .size()\n",
    " .to_frame()\n",
    " .rename(columns={0:'number'}))"
   ]
  },
  {
   "cell_type": "markdown",
   "metadata": {},
   "source": [
    "Though the cluster numbers are not identical, the clusters are very consistent within a single wine variety (red or white).\n",
    "\n",
    "And here is a plot of the dendrogram created from agglomerative clustering.\n"
   ]
  },
  {
   "cell_type": "code",
   "execution_count": 23,
   "metadata": {
    "ExecuteTime": {
     "end_time": "2017-03-20T11:53:03.838928Z",
     "start_time": "2017-03-20T07:53:02.088506-04:00"
    },
    "collapsed": false,
    "jupyter": {
     "outputs_hidden": false
    }
   },
   "outputs": [
    {
     "data": {
      "image/png": "[encoded data removed]",
      "text/plain": [
       "<Figure size 1500x500 with 1 Axes>"
      ]
     },
     "metadata": {},
     "output_type": "display_data"
    }
   ],
   "source": [
    "# First, we import the cluster hierarchy module from SciPy (described above) to obtain the linkage and dendrogram functions.\n",
    "from scipy.cluster import hierarchy\n",
    "\n",
    "Z = hierarchy.linkage(ag.children_, method='ward')\n",
    "\n",
    "fig, ax = plt.subplots(figsize=(15,5))\n",
    "\n",
    "\n",
    "den = hierarchy.dendrogram(Z, orientation='top', \n",
    "                           p=30, truncate_mode='lastp',\n",
    "                           show_leaf_counts=True, ax=ax)\n",
    "### END SOLUTION"
   ]
  },
  {
   "cell_type": "markdown",
   "metadata": {},
   "source": [
    "## Question 6\n",
    "\n",
    "In this question, we are going to explore clustering as a form of feature engineering.\n",
    "\n",
    "*   Create a **binary** target variable `y`, denoting if the quality is greater than 7 or not.\n",
    "*   Create a variable called `X_with_kmeans` from `data`, by dropping the columns \"quality\", \"color\" and \"agglom\" from the dataset. Create `X_without_kmeans` from that by dropping \"kmeans\".\n",
    "*   For both datasets, using **[StratifiedShuffleSplit](https://scikit-learn.org/stable/modules/generated/sklearn.model_selection.StratifiedShuffleSplit.html?utm_medium=Exinfluencer&utm_source=Exinfluencer&utm_content=000026UJ&utm_term=10006555&utm_id=NA-SkillsNetwork-Channel-SkillsNetworkCoursesIBMML0187ENSkillsNetwork31430127-2022-01-01)** with 10 splits, fit 10 Random Forest Classifiers and find the mean of the ROC-AUC scores from these 10 classifiers.\n",
    "*   Compare the average roc-auc scores for both models, the one using the KMeans cluster as a feature and the one that doesn't use it.\n"
   ]
  },
  {
   "cell_type": "code",
   "execution_count": 24,
   "metadata": {
    "collapsed": false,
    "jupyter": {
     "outputs_hidden": false
    }
   },
   "outputs": [
    {
     "name": "stdout",
     "output_type": "stream",
     "text": [
      "Without kmeans cluster as input to Random Forest, roc-auc is \"0.9101904761904761\"\n",
      "Using kmeans cluster as input to Random Forest, roc-auc is \"0.9132579365079364\"\n"
     ]
    }
   ],
   "source": [
    "from sklearn.ensemble import RandomForestClassifier\n",
    "from sklearn.metrics import classification_report, roc_auc_score\n",
    "from sklearn.model_selection import StratifiedShuffleSplit\n",
    "\n",
    "### BEGIN SOLUTION\n",
    "y = (data['quality'] > 7).astype(int)\n",
    "X_with_kmeans = data.drop(['agglom', 'color', 'quality'], axis=1)\n",
    "X_without_kmeans = X_with_kmeans.drop('kmeans', axis=1)\n",
    "sss = StratifiedShuffleSplit(n_splits=10, random_state=6532)\n",
    "\n",
    "def get_avg_roc_10splits(estimator, X, y):\n",
    "    roc_auc_list = []\n",
    "    for train_index, test_index in sss.split(X, y):\n",
    "        X_train, X_test = X.iloc[train_index], X.iloc[test_index]\n",
    "        y_train, y_test = y.iloc[train_index], y.iloc[test_index]\n",
    "        estimator.fit(X_train, y_train)\n",
    "        y_predicted = estimator.predict(X_test)\n",
    "        y_scored = estimator.predict_proba(X_test)[:, 1]\n",
    "        roc_auc_list.append(roc_auc_score(y_test, y_scored))\n",
    "    return np.mean(roc_auc_list)\n",
    "# return classification_report(y_test, y_predicted)\n",
    "\n",
    "estimator = RandomForestClassifier()\n",
    "roc_with_kmeans = get_avg_roc_10splits(estimator, X_with_kmeans, y)\n",
    "roc_without_kmeans = get_avg_roc_10splits(estimator, X_without_kmeans, y)\n",
    "print(\"Without kmeans cluster as input to Random Forest, roc-auc is \\\"{0}\\\"\".format(roc_without_kmeans))\n",
    "print(\"Using kmeans cluster as input to Random Forest, roc-auc is \\\"{0}\\\"\".format(roc_with_kmeans))"
   ]
  },
  {
   "cell_type": "markdown",
   "metadata": {},
   "source": [
    "Let's now explore if the number of clusters have an effect in this improvement.\n",
    "\n",
    "*   Create the basis training set from `data` by restricting to float_columns.\n",
    "*   For $n = 1, \\ldots, 20$, fit a KMeans algorithim with $n$ clusters. **[One-hot encode]()** it and add it to the **basis** training set. Don't add it to the previous iteration.\n",
    "*   Fit 10 **Logistic Regression** models and compute the average roc-auc-score.\n",
    "*   Plot the average roc-auc scores.\n"
   ]
  },
  {
   "cell_type": "code",
   "execution_count": 25,
   "metadata": {
    "collapsed": false,
    "jupyter": {
     "outputs_hidden": false
    }
   },
   "outputs": [
    {
     "data": {
      "image/png": "[encoded data removed]",
      "text/plain": [
       "<Figure size 640x480 with 1 Axes>"
      ]
     },
     "metadata": {},
     "output_type": "display_data"
    }
   ],
   "source": [
    "from sklearn.linear_model import LogisticRegression\n",
    "\n",
    "X_basis = data[float_columns]\n",
    "sss = StratifiedShuffleSplit(n_splits=10, random_state=6532)\n",
    "\n",
    "def create_kmeans_columns(n):\n",
    "    km = KMeans(n_clusters=n)\n",
    "    km.fit(X_basis)\n",
    "    km_col = pd.Series(km.predict(X_basis))\n",
    "    km_cols = pd.get_dummies(km_col, prefix='kmeans_cluster')\n",
    "    return pd.concat([X_basis, km_cols], axis=1)\n",
    "\n",
    "estimator = LogisticRegression()\n",
    "ns = range(1, 21)\n",
    "roc_auc_list = [get_avg_roc_10splits(estimator, create_kmeans_columns(n), y)\n",
    "                for n in ns]\n",
    "\n",
    "ax = plt.axes()\n",
    "ax.plot(ns, roc_auc_list)\n",
    "ax.set(\n",
    "    xticklabels= ns,\n",
    "    xlabel='Number of clusters as features',\n",
    "    ylabel='Average ROC-AUC over 10 iterations',\n",
    "    title='KMeans + LogisticRegression'\n",
    ")\n",
    "ax.grid(True)\n",
    "### END SOLUTION"
   ]
  },
  {
   "cell_type": "markdown",
   "metadata": {},
   "source": [
    "***\n",
    "\n",
    "### Machine Learning Foundation (C) 2020 IBM Corporation\n"
   ]
  }
 ],
 "metadata": {
  "kernelspec": {
   "display_name": "3.11.5",
   "language": "python",
   "name": "python3"
  },
  "language_info": {
   "codemirror_mode": {
    "name": "ipython",
    "version": 3
   },
   "file_extension": ".py",
   "mimetype": "text/x-python",
   "name": "python",
   "nbconvert_exporter": "python",
   "pygments_lexer": "ipython3",
   "version": "3.11.5"
  }
 },
 "nbformat": 4,
 "nbformat_minor": 4
}
